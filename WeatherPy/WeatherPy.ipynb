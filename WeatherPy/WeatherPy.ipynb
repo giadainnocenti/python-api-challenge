{
 "cells": [
  {
   "cell_type": "markdown",
   "metadata": {},
   "source": [
    "# WeatherPy\n",
    "----\n",
    "\n",
    "#### Note\n",
    "* Instructions have been included for each segment. You do not have to follow them exactly, but they are included to help you think through the steps."
   ]
  },
  {
   "cell_type": "code",
   "execution_count": 1,
   "metadata": {
    "scrolled": true
   },
   "outputs": [],
   "source": [
    "# Dependencies and Setup\n",
    "import matplotlib.pyplot as plt\n",
    "import pandas as pd\n",
    "import numpy as np\n",
    "import requests\n",
    "import time\n",
    "from scipy.stats import linregress\n",
    "\n",
    "# Import API key\n",
    "from api_keys import weather_api_key\n",
    "\n",
    "# Incorporated citipy to determine city based on latitude and longitude\n",
    "from citipy import citipy\n",
    "\n",
    "# Output File (CSV)\n",
    "output_data_file = \"output_data/cities.csv\"\n",
    "\n",
    "# Range of latitudes and longitudes\n",
    "lat_range = (-90, 90)\n",
    "lng_range = (-180, 180)"
   ]
  },
  {
   "cell_type": "markdown",
   "metadata": {},
   "source": [
    "## Generate Cities List"
   ]
  },
  {
   "cell_type": "code",
   "execution_count": 2,
   "metadata": {},
   "outputs": [
    {
     "data": {
      "text/plain": [
       "621"
      ]
     },
     "execution_count": 2,
     "metadata": {},
     "output_type": "execute_result"
    }
   ],
   "source": [
    "# List for holding lat_lngs and cities\n",
    "lat_lngs = []\n",
    "cities = []\n",
    "\n",
    "# Create a set of random lat and lng combinations\n",
    "lats = np.random.uniform(lat_range[0], lat_range[1], size=1500)\n",
    "lngs = np.random.uniform(lng_range[0], lng_range[1], size=1500)\n",
    "lat_lngs = zip(lats, lngs)\n",
    "\n",
    "# Identify nearest city for each lat, lng combination\n",
    "for lat_lng in lat_lngs:\n",
    "    city = citipy.nearest_city(lat_lng[0], lat_lng[1]).city_name\n",
    "    \n",
    "    # If the city is unique, then add it to a our cities list\n",
    "    if city not in cities:\n",
    "        cities.append(city)\n",
    "\n",
    "# Print the city count to confirm sufficient count - they have to be 500+\n",
    "len(cities)"
   ]
  },
  {
   "cell_type": "markdown",
   "metadata": {},
   "source": [
    "### Perform API Calls\n",
    "* Perform a weather check on each city using a series of successive API calls.\n",
    "* Include a print log of each city as it'sbeing processed (with the city number and city name).\n"
   ]
  },
  {
   "cell_type": "code",
   "execution_count": 3,
   "metadata": {
    "scrolled": true
   },
   "outputs": [
    {
     "name": "stdout",
     "output_type": "stream",
     "text": [
      "Beginning Data Retrieval\n",
      "------------------------\n",
      "Processing record 1 | rikitea\n",
      "Processing record 2 | qaanaaq\n",
      "Processing record 3 | donghai\n",
      "-------------------\n",
      "Data Retrieval Complete\n",
      "-------------------\n"
     ]
    }
   ],
   "source": [
    "# Save config information\n",
    "url = \"http://api.openweathermap.org/data/2.5/weather?\"\n",
    "print('Beginning Data Retrieval')\n",
    "print('------------------------')\n",
    "cities_data=[]\n",
    "city_list = []\n",
    "for x in range(len(cities[:3])):\n",
    "    #build query url\n",
    "    queryurl = '{0}q={1}&appid={2}'.format(url,cities[x],weather_api_key)\n",
    "    try:\n",
    "        cities_data += [ requests.get(queryurl).json()]\n",
    "        city_list +=[cities[x]]\n",
    "        #city_data['Lat','Lng'] +=[cities_data['coord'][:]]\n",
    "        print(f'Processing record {x+1} | {cities[x]}')\n",
    "    except:\n",
    "        print(f'City not found. ({cities[x]}) Skipping..')\n",
    "print('-------------------')\n",
    "print('Data Retrieval Complete')\n",
    "print('-------------------')"
   ]
  },
  {
   "cell_type": "code",
   "execution_count": 10,
   "metadata": {
    "scrolled": true
   },
   "outputs": [
    {
     "name": "stdout",
     "output_type": "stream",
     "text": [
      "http://api.openweathermap.org/data/2.5/weather?q=donghai&appid=31052966434f7755735f4637f287913a\n"
     ]
    },
    {
     "data": {
      "text/plain": [
       "[{'coord': {'lon': -134.9692, 'lat': -23.1203},\n",
       "  'weather': [{'id': 801,\n",
       "    'main': 'Clouds',\n",
       "    'description': 'few clouds',\n",
       "    'icon': '02d'}],\n",
       "  'base': 'stations',\n",
       "  'main': {'temp': 298.66,\n",
       "   'feels_like': 298.19,\n",
       "   'temp_min': 298.66,\n",
       "   'temp_max': 298.66,\n",
       "   'pressure': 1013,\n",
       "   'humidity': 72,\n",
       "   'sea_level': 1013,\n",
       "   'grnd_level': 1010},\n",
       "  'visibility': 10000,\n",
       "  'wind': {'speed': 6.01, 'deg': 129},\n",
       "  'clouds': {'all': 19},\n",
       "  'dt': 1612379907,\n",
       "  'sys': {'country': 'PF', 'sunrise': 1612363269, 'sunset': 1612410378},\n",
       "  'timezone': -32400,\n",
       "  'id': 4030556,\n",
       "  'name': 'Rikitea',\n",
       "  'cod': 200},\n",
       " {'coord': {'lon': -69.3632, 'lat': 77.484},\n",
       "  'weather': [{'id': 803,\n",
       "    'main': 'Clouds',\n",
       "    'description': 'broken clouds',\n",
       "    'icon': '04n'}],\n",
       "  'base': 'stations',\n",
       "  'main': {'temp': 243.44,\n",
       "   'feels_like': 238.76,\n",
       "   'temp_min': 243.44,\n",
       "   'temp_max': 243.44,\n",
       "   'pressure': 1034,\n",
       "   'humidity': 68,\n",
       "   'sea_level': 1034,\n",
       "   'grnd_level': 1030},\n",
       "  'visibility': 10000,\n",
       "  'wind': {'speed': 1.14, 'deg': 38},\n",
       "  'clouds': {'all': 79},\n",
       "  'dt': 1612379907,\n",
       "  'sys': {'country': 'GL', 'sunrise': 0, 'sunset': 0},\n",
       "  'timezone': -14400,\n",
       "  'id': 3831208,\n",
       "  'name': 'Qaanaaq',\n",
       "  'cod': 200},\n",
       " {'coord': {'lon': 115.642, 'lat': 22.9459},\n",
       "  'weather': [{'id': 800,\n",
       "    'main': 'Clear',\n",
       "    'description': 'clear sky',\n",
       "    'icon': '01n'}],\n",
       "  'base': 'stations',\n",
       "  'main': {'temp': 286.83,\n",
       "   'feels_like': 285.19,\n",
       "   'temp_min': 286.83,\n",
       "   'temp_max': 286.83,\n",
       "   'pressure': 1021,\n",
       "   'humidity': 75,\n",
       "   'sea_level': 1021,\n",
       "   'grnd_level': 1020},\n",
       "  'visibility': 10000,\n",
       "  'wind': {'speed': 2.15, 'deg': 56},\n",
       "  'clouds': {'all': 2},\n",
       "  'dt': 1612379907,\n",
       "  'sys': {'country': 'CN', 'sunrise': 1612392954, 'sunset': 1612433204},\n",
       "  'timezone': 28800,\n",
       "  'id': 1812521,\n",
       "  'name': 'Donghai',\n",
       "  'cod': 200}]"
      ]
     },
     "execution_count": 10,
     "metadata": {},
     "output_type": "execute_result"
    }
   ],
   "source": [
    "print(queryurl)\n",
    "city_list = cities[:3]\n",
    "cities_data \n",
    "\n"
   ]
  },
  {
   "cell_type": "code",
   "execution_count": 23,
   "metadata": {},
   "outputs": [
    {
     "data": {
      "text/html": [
       "<div>\n",
       "<style scoped>\n",
       "    .dataframe tbody tr th:only-of-type {\n",
       "        vertical-align: middle;\n",
       "    }\n",
       "\n",
       "    .dataframe tbody tr th {\n",
       "        vertical-align: top;\n",
       "    }\n",
       "\n",
       "    .dataframe thead th {\n",
       "        text-align: right;\n",
       "    }\n",
       "</style>\n",
       "<table border=\"1\" class=\"dataframe\">\n",
       "  <thead>\n",
       "    <tr style=\"text-align: right;\">\n",
       "      <th></th>\n",
       "      <th>City</th>\n",
       "      <th>Lon</th>\n",
       "      <th>Lat</th>\n",
       "      <th>Max Temp</th>\n",
       "      <th>Humidity</th>\n",
       "      <th>Cloudiness</th>\n",
       "      <th>Wind Speed</th>\n",
       "      <th>Country</th>\n",
       "      <th>Date</th>\n",
       "    </tr>\n",
       "  </thead>\n",
       "  <tbody>\n",
       "    <tr>\n",
       "      <th>0</th>\n",
       "      <td>rikitea</td>\n",
       "      <td>-134.9692</td>\n",
       "      <td>-23.1203</td>\n",
       "      <td>298.66</td>\n",
       "      <td>72</td>\n",
       "      <td>19</td>\n",
       "      <td>6.01</td>\n",
       "      <td>PF</td>\n",
       "      <td>1612379907</td>\n",
       "    </tr>\n",
       "    <tr>\n",
       "      <th>1</th>\n",
       "      <td>qaanaaq</td>\n",
       "      <td>-69.3632</td>\n",
       "      <td>77.4840</td>\n",
       "      <td>243.44</td>\n",
       "      <td>68</td>\n",
       "      <td>79</td>\n",
       "      <td>1.14</td>\n",
       "      <td>GL</td>\n",
       "      <td>1612379907</td>\n",
       "    </tr>\n",
       "    <tr>\n",
       "      <th>2</th>\n",
       "      <td>donghai</td>\n",
       "      <td>115.6420</td>\n",
       "      <td>22.9459</td>\n",
       "      <td>286.83</td>\n",
       "      <td>75</td>\n",
       "      <td>2</td>\n",
       "      <td>2.15</td>\n",
       "      <td>CN</td>\n",
       "      <td>1612379907</td>\n",
       "    </tr>\n",
       "  </tbody>\n",
       "</table>\n",
       "</div>"
      ],
      "text/plain": [
       "      City       Lon      Lat  Max Temp  Humidity  Cloudiness  Wind Speed  \\\n",
       "0  rikitea -134.9692 -23.1203    298.66        72          19        6.01   \n",
       "1  qaanaaq  -69.3632  77.4840    243.44        68          79        1.14   \n",
       "2  donghai  115.6420  22.9459    286.83        75           2        2.15   \n",
       "\n",
       "  Country        Date  \n",
       "0      PF  1612379907  \n",
       "1      GL  1612379907  \n",
       "2      CN  1612379907  "
      ]
     },
     "execution_count": 23,
     "metadata": {},
     "output_type": "execute_result"
    }
   ],
   "source": [
    "lon_list = []\n",
    "lat_list = []\n",
    "T_list =[]\n",
    "humidity = []\n",
    "cloudiness = []\n",
    "wind_speed = []\n",
    "country_list = []\n",
    "date = []\n",
    "for city in cities_data:\n",
    "    lon_list += [city['coord']['lon']]\n",
    "    lat_list += [city['coord']['lat']]\n",
    "    T_list +=[city['main']['temp_max']]\n",
    "    humidity += [city['main']['humidity']]\n",
    "    cloudiness +=[city['clouds']['all']]\n",
    "    wind_speed +=[city['wind']['speed']]\n",
    "    country_list += [city['sys']['country']]\n",
    "    date += [city['dt']]\n",
    "city_data = {'City': city_list,\n",
    "            'Lon': lon_list,\n",
    "            'Lat': lat_list,\n",
    "            'Max Temp': T_list,\n",
    "            'Humidity': humidity,\n",
    "            'Cloudiness':cloudiness ,\n",
    "             'Wind Speed': wind_speed,\n",
    "             'Country': country_list,\n",
    "             'Date': date}\n",
    "              \n",
    "\n",
    "city_df = pd.DataFrame.from_dict(city_data)\n",
    "city_df"
   ]
  },
  {
   "cell_type": "markdown",
   "metadata": {},
   "source": [
    "### Convert Raw Data to DataFrame\n",
    "* Export the city data into a .csv.\n",
    "* Display the DataFrame"
   ]
  },
  {
   "cell_type": "code",
   "execution_count": null,
   "metadata": {},
   "outputs": [],
   "source": []
  },
  {
   "cell_type": "code",
   "execution_count": null,
   "metadata": {},
   "outputs": [],
   "source": []
  },
  {
   "cell_type": "markdown",
   "metadata": {},
   "source": [
    "## Inspect the data and remove the cities where the humidity > 100%.\n",
    "----\n",
    "Skip this step if there are no cities that have humidity > 100%. "
   ]
  },
  {
   "cell_type": "code",
   "execution_count": null,
   "metadata": {},
   "outputs": [],
   "source": []
  },
  {
   "cell_type": "code",
   "execution_count": 6,
   "metadata": {},
   "outputs": [],
   "source": [
    "#  Get the indices of cities that have humidity over 100%.\n"
   ]
  },
  {
   "cell_type": "code",
   "execution_count": 7,
   "metadata": {},
   "outputs": [],
   "source": [
    "# Make a new DataFrame equal to the city data to drop all humidity outliers by index.\n",
    "# Passing \"inplace=False\" will make a copy of the city_data DataFrame, which we call \"clean_city_data\".\n"
   ]
  },
  {
   "cell_type": "code",
   "execution_count": null,
   "metadata": {},
   "outputs": [],
   "source": [
    "\n"
   ]
  },
  {
   "cell_type": "markdown",
   "metadata": {},
   "source": [
    "## Plotting the Data\n",
    "* Use proper labeling of the plots using plot titles (including date of analysis) and axes labels.\n",
    "* Save the plotted figures as .pngs."
   ]
  },
  {
   "cell_type": "markdown",
   "metadata": {},
   "source": [
    "## Latitude vs. Temperature Plot"
   ]
  },
  {
   "cell_type": "code",
   "execution_count": null,
   "metadata": {
    "scrolled": true
   },
   "outputs": [],
   "source": []
  },
  {
   "cell_type": "markdown",
   "metadata": {},
   "source": [
    "## Latitude vs. Humidity Plot"
   ]
  },
  {
   "cell_type": "code",
   "execution_count": null,
   "metadata": {},
   "outputs": [],
   "source": []
  },
  {
   "cell_type": "markdown",
   "metadata": {},
   "source": [
    "## Latitude vs. Cloudiness Plot"
   ]
  },
  {
   "cell_type": "code",
   "execution_count": null,
   "metadata": {},
   "outputs": [],
   "source": []
  },
  {
   "cell_type": "markdown",
   "metadata": {},
   "source": [
    "## Latitude vs. Wind Speed Plot"
   ]
  },
  {
   "cell_type": "code",
   "execution_count": null,
   "metadata": {},
   "outputs": [],
   "source": []
  },
  {
   "cell_type": "markdown",
   "metadata": {},
   "source": [
    "## Linear Regression"
   ]
  },
  {
   "cell_type": "code",
   "execution_count": null,
   "metadata": {},
   "outputs": [],
   "source": []
  },
  {
   "cell_type": "markdown",
   "metadata": {},
   "source": [
    "####  Northern Hemisphere - Max Temp vs. Latitude Linear Regression"
   ]
  },
  {
   "cell_type": "code",
   "execution_count": null,
   "metadata": {},
   "outputs": [],
   "source": []
  },
  {
   "cell_type": "markdown",
   "metadata": {},
   "source": [
    "####  Southern Hemisphere - Max Temp vs. Latitude Linear Regression"
   ]
  },
  {
   "cell_type": "code",
   "execution_count": null,
   "metadata": {},
   "outputs": [],
   "source": []
  },
  {
   "cell_type": "markdown",
   "metadata": {},
   "source": [
    "####  Northern Hemisphere - Humidity (%) vs. Latitude Linear Regression"
   ]
  },
  {
   "cell_type": "code",
   "execution_count": null,
   "metadata": {},
   "outputs": [],
   "source": []
  },
  {
   "cell_type": "markdown",
   "metadata": {},
   "source": [
    "####  Southern Hemisphere - Humidity (%) vs. Latitude Linear Regression"
   ]
  },
  {
   "cell_type": "code",
   "execution_count": null,
   "metadata": {},
   "outputs": [],
   "source": []
  },
  {
   "cell_type": "markdown",
   "metadata": {},
   "source": [
    "####  Northern Hemisphere - Cloudiness (%) vs. Latitude Linear Regression"
   ]
  },
  {
   "cell_type": "code",
   "execution_count": null,
   "metadata": {},
   "outputs": [],
   "source": []
  },
  {
   "cell_type": "markdown",
   "metadata": {},
   "source": [
    "####  Southern Hemisphere - Cloudiness (%) vs. Latitude Linear Regression"
   ]
  },
  {
   "cell_type": "code",
   "execution_count": null,
   "metadata": {},
   "outputs": [],
   "source": []
  },
  {
   "cell_type": "markdown",
   "metadata": {},
   "source": [
    "####  Northern Hemisphere - Wind Speed (mph) vs. Latitude Linear Regression"
   ]
  },
  {
   "cell_type": "code",
   "execution_count": null,
   "metadata": {},
   "outputs": [],
   "source": []
  },
  {
   "cell_type": "markdown",
   "metadata": {},
   "source": [
    "####  Southern Hemisphere - Wind Speed (mph) vs. Latitude Linear Regression"
   ]
  },
  {
   "cell_type": "code",
   "execution_count": null,
   "metadata": {},
   "outputs": [],
   "source": []
  },
  {
   "cell_type": "code",
   "execution_count": null,
   "metadata": {},
   "outputs": [],
   "source": []
  }
 ],
 "metadata": {
  "anaconda-cloud": {},
  "kernel_info": {
   "name": "python3"
  },
  "kernelspec": {
   "display_name": "Python 3",
   "language": "python",
   "name": "python3"
  },
  "language_info": {
   "codemirror_mode": {
    "name": "ipython",
    "version": 3
   },
   "file_extension": ".py",
   "mimetype": "text/x-python",
   "name": "python",
   "nbconvert_exporter": "python",
   "pygments_lexer": "ipython3",
   "version": "3.7.6"
  },
  "latex_envs": {
   "LaTeX_envs_menu_present": true,
   "autoclose": false,
   "autocomplete": true,
   "bibliofile": "biblio.bib",
   "cite_by": "apalike",
   "current_citInitial": 1,
   "eqLabelWithNumbers": true,
   "eqNumInitial": 1,
   "hotkeys": {
    "equation": "Ctrl-E",
    "itemize": "Ctrl-I"
   },
   "labels_anchors": false,
   "latex_user_defs": false,
   "report_style_numbering": false,
   "user_envs_cfg": false
  },
  "nteract": {
   "version": "0.12.3"
  }
 },
 "nbformat": 4,
 "nbformat_minor": 2
}
